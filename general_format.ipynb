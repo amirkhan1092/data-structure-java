{
 "cells": [
  {
   "cell_type": "code",
   "execution_count": 20,
   "metadata": {},
   "outputs": [
    {
     "name": "stdout",
     "output_type": "stream",
     "text": [
      "value of a is a=+230.000000\n",
      "Value of b is b=-34.8900000\n"
     ]
    }
   ],
   "source": [
    "a = 230\n",
    "b = -34.89\n",
    "out = f\"value of a is {a=:+2.6f}\\nValue of b is {b=:+2.7f}\"\n",
    "print(out)"
   ]
  },
  {
   "cell_type": "code",
   "execution_count": 21,
   "metadata": {},
   "outputs": [
    {
     "name": "stdout",
     "output_type": "stream",
     "text": [
      "Friend 2\n"
     ]
    }
   ],
   "source": [
    "Enemy, Friend = 5, 2\n",
    "st = 'No Better Friend No Worse Enemy'.split()\n",
    "re=st[Enemy%20] and None if Enemy+Friend < len(st) else st[Friend%20]\n",
    "print(re, eval(re))\n"
   ]
  },
  {
   "cell_type": "code",
   "execution_count": 34,
   "metadata": {},
   "outputs": [
    {
     "name": "stdout",
     "output_type": "stream",
     "text": [
      "******************\n",
      "********  ********\n",
      "*******    *******\n",
      "******      ******\n",
      "*****        *****\n",
      "****          ****\n",
      "***            ***\n",
      "**              **\n",
      "*                *\n",
      "*                *\n",
      "**              **\n",
      "***            ***\n",
      "****          ****\n",
      "*****        *****\n",
      "******      ******\n",
      "*******    *******\n",
      "********  ********\n",
      "******************\n"
     ]
    }
   ],
   "source": [
    "rows = 9\n",
    "for i in range(1, rows+1):\n",
    "    print('*'*(rows-i+1)+' '*(2*i-2)+'*'*(rows-i+1))\n",
    "for i in range(1, rows+1):\n",
    "    print('*'*i+' '*(2*(rows-i))+'*'*i)   "
   ]
  }
 ],
 "metadata": {
  "kernelspec": {
   "display_name": "Python 3.10.7 64-bit",
   "language": "python",
   "name": "python3"
  },
  "language_info": {
   "codemirror_mode": {
    "name": "ipython",
    "version": 3
   },
   "file_extension": ".py",
   "mimetype": "text/x-python",
   "name": "python",
   "nbconvert_exporter": "python",
   "pygments_lexer": "ipython3",
   "version": "3.10.7"
  },
  "orig_nbformat": 4,
  "vscode": {
   "interpreter": {
    "hash": "490f1c68ed42f2c5a574e22fb9e03ff49b98516de8582ff1c5d4fb43fb70f61b"
   }
  }
 },
 "nbformat": 4,
 "nbformat_minor": 2
}
